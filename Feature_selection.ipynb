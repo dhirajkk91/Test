{
  "nbformat": 4,
  "nbformat_minor": 0,
  "metadata": {
    "colab": {
      "provenance": [],
      "authorship_tag": "ABX9TyPISqYDuoGecAEtUrBHV0Z1",
      "include_colab_link": true
    },
    "kernelspec": {
      "name": "python3",
      "display_name": "Python 3"
    },
    "language_info": {
      "name": "python"
    }
  },
  "cells": [
    {
      "cell_type": "markdown",
      "metadata": {
        "id": "view-in-github",
        "colab_type": "text"
      },
      "source": [
        "<a href=\"https://colab.research.google.com/github/dhirajkk91/Test/blob/main/Feature_selection.ipynb\" target=\"_parent\"><img src=\"https://colab.research.google.com/assets/colab-badge.svg\" alt=\"Open In Colab\"/></a>"
      ]
    },
    {
      "cell_type": "code",
      "execution_count": 1,
      "metadata": {
        "id": "v-cj32gv-1ww"
      },
      "outputs": [],
      "source": [
        "import pandas as pd\n",
        "import statsmodels.api as sm\n",
        "from sklearn.linear_model import LinearRegression, Lasso\n",
        "from sklearn.model_selection import train_test_split\n",
        "from sklearn.metrics import r2_score"
      ]
    },
    {
      "cell_type": "code",
      "source": [
        "# Sample dataset\n",
        "data = {\n",
        "    'StudyHours': [1, 2, 3, 4, 5, 6, 7, 8, 9, 10],\n",
        "    'PrevExamScore': [30, 40, 45, 50, 60, 65, 70, 75, 80, 85],\n",
        "    'Pass': [0, 0, 0, 0, 0, 1, 1, 1, 1, 1]  # 0 = Fail, 1 = Pass\n",
        "}\n",
        "\n",
        "df = pd.DataFrame(data)\n",
        "\n",
        "# Define features and target variable\n",
        "X = df[['StudyHours', 'PrevExamScore']]\n",
        "y = df['Pass']"
      ],
      "metadata": {
        "id": "WjIQ_osj-7eY"
      },
      "execution_count": 2,
      "outputs": []
    },
    {
      "cell_type": "markdown",
      "source": [
        "# Backward Elimination"
      ],
      "metadata": {
        "id": "ud3M_NeB_VRY"
      }
    },
    {
      "cell_type": "code",
      "source": [
        "# Add constant to the model\n",
        "X = sm.add_constant(X)\n",
        "\n",
        "# Fit the model using Ordinary Least Squares (OLS)\n",
        "model = sm.OLS(y, X).fit()\n",
        "\n",
        "# Display the model summary\n",
        "print(model.summary())\n",
        "\n",
        "# Remove feature with highest p-value if greater than 0.05\n",
        "if model.pvalues['StudyHours'] > 0.05:\n",
        "    X = X.drop(columns='StudyHours')\n",
        "    model = sm.OLS(y, X).fit()\n",
        "\n",
        "# Final model after backward elimination\n",
        "print(model.summary())"
      ],
      "metadata": {
        "colab": {
          "base_uri": "https://localhost:8080/"
        },
        "id": "ylduDc0O--ri",
        "outputId": "ce2d9592-79c7-4f7c-adda-daca1e64a004"
      },
      "execution_count": 3,
      "outputs": [
        {
          "output_type": "stream",
          "name": "stdout",
          "text": [
            "                            OLS Regression Results                            \n",
            "==============================================================================\n",
            "Dep. Variable:                   Pass   R-squared:                       0.758\n",
            "Model:                            OLS   Adj. R-squared:                  0.688\n",
            "Method:                 Least Squares   F-statistic:                     10.94\n",
            "Date:                Mon, 22 Sep 2025   Prob (F-statistic):            0.00701\n",
            "Time:                        15:12:39   Log-Likelihood:               -0.17258\n",
            "No. Observations:                  10   AIC:                             6.345\n",
            "Df Residuals:                       7   BIC:                             7.253\n",
            "Df Model:                           2                                         \n",
            "Covariance Type:            nonrobust                                         \n",
            "=================================================================================\n",
            "                    coef    std err          t      P>|t|      [0.025      0.975]\n",
            "---------------------------------------------------------------------------------\n",
            "const            -0.3333      1.464     -0.228      0.826      -3.796       3.129\n",
            "StudyHours        0.1515      0.324      0.468      0.654      -0.615       0.918\n",
            "PrevExamScore -3.053e-16      0.054  -5.68e-15      1.000      -0.127       0.127\n",
            "==============================================================================\n",
            "Omnibus:                        0.086   Durbin-Watson:                   1.491\n",
            "Prob(Omnibus):                  0.958   Jarque-Bera (JB):                0.311\n",
            "Skew:                           0.000   Prob(JB):                        0.856\n",
            "Kurtosis:                       2.136   Cond. No.                     1.01e+03\n",
            "==============================================================================\n",
            "\n",
            "Notes:\n",
            "[1] Standard Errors assume that the covariance matrix of the errors is correctly specified.\n",
            "[2] The condition number is large, 1.01e+03. This might indicate that there are\n",
            "strong multicollinearity or other numerical problems.\n",
            "                            OLS Regression Results                            \n",
            "==============================================================================\n",
            "Dep. Variable:                   Pass   R-squared:                       0.750\n",
            "Model:                            OLS   Adj. R-squared:                  0.719\n",
            "Method:                 Least Squares   F-statistic:                     24.00\n",
            "Date:                Mon, 22 Sep 2025   Prob (F-statistic):            0.00120\n",
            "Time:                        15:12:39   Log-Likelihood:               -0.32644\n",
            "No. Observations:                  10   AIC:                             4.653\n",
            "Df Residuals:                       8   BIC:                             5.258\n",
            "Df Model:                           1                                         \n",
            "Covariance Type:            nonrobust                                         \n",
            "=================================================================================\n",
            "                    coef    std err          t      P>|t|      [0.025      0.975]\n",
            "---------------------------------------------------------------------------------\n",
            "const            -1.0000      0.319     -3.138      0.014      -1.735      -0.265\n",
            "PrevExamScore     0.0250      0.005      4.899      0.001       0.013       0.037\n",
            "==============================================================================\n",
            "Omnibus:                        0.471   Durbin-Watson:                   1.575\n",
            "Prob(Omnibus):                  0.790   Jarque-Bera (JB):                0.372\n",
            "Skew:                          -0.375   Prob(JB):                        0.830\n",
            "Kurtosis:                       2.425   Cond. No.                         225.\n",
            "==============================================================================\n",
            "\n",
            "Notes:\n",
            "[1] Standard Errors assume that the covariance matrix of the errors is correctly specified.\n"
          ]
        }
      ]
    },
    {
      "cell_type": "markdown",
      "source": [
        "# Forward Selection"
      ],
      "metadata": {
        "id": "EwO14Ss7_f6g"
      }
    },
    {
      "cell_type": "code",
      "source": [
        "def forward_selection(X, y):\n",
        "    remaining_features = set(X.columns)\n",
        "    selected_features = []\n",
        "    current_score = 0.0\n",
        "\n",
        "    while remaining_features:\n",
        "        scores_with_candidates = []\n",
        "\n",
        "        for feature in remaining_features:\n",
        "            features_to_test = selected_features + [feature]\n",
        "            X_train, X_test, y_train, y_test = train_test_split(X[features_to_test], y, test_size=0.2, random_state=42)\n",
        "\n",
        "            # Train the model\n",
        "            model = LinearRegression()\n",
        "            model.fit(X_train, y_train)\n",
        "            y_pred = model.predict(X_test)\n",
        "            score = r2_score(y_test, y_pred)\n",
        "\n",
        "            scores_with_candidates.append((score, feature))\n",
        "\n",
        "        # Select the feature with the highest score\n",
        "        scores_with_candidates.sort(reverse=True)\n",
        "        best_score, best_feature = scores_with_candidates[0]\n",
        "\n",
        "        if current_score < best_score:\n",
        "            remaining_features.remove(best_feature)\n",
        "            selected_features.append(best_feature)\n",
        "            current_score = best_score\n",
        "        else:\n",
        "            break\n",
        "\n",
        "    return selected_features\n",
        "\n",
        "best_features = forward_selection(X, y)\n",
        "print(f\"Selected features using Forward Selection: {best_features}\")"
      ],
      "metadata": {
        "colab": {
          "base_uri": "https://localhost:8080/"
        },
        "id": "E4kyk8NP_MS1",
        "outputId": "58bd4c51-6040-432e-a78d-41a491925aad"
      },
      "execution_count": 4,
      "outputs": [
        {
          "output_type": "stream",
          "name": "stdout",
          "text": [
            "Selected features using Forward Selection: ['PrevExamScore']\n"
          ]
        }
      ]
    },
    {
      "cell_type": "markdown",
      "source": [
        "# LASSO"
      ],
      "metadata": {
        "id": "0qcVtJ8S_jEz"
      }
    },
    {
      "cell_type": "code",
      "source": [
        "# Split the data into training and testing sets\n",
        "X_train, X_test, y_train, y_test = train_test_split(X, y, test_size=0.2, random_state=42)\n",
        "\n",
        "# Initialize the LASSO model with alpha (regularization parameter)\n",
        "lasso_model = Lasso(alpha=0.1)\n",
        "\n",
        "# Train the LASSO model\n",
        "lasso_model.fit(X_train, y_train)\n",
        "\n",
        "# Make predictions and evaluate the model\n",
        "y_pred = lasso_model.predict(X_test)\n",
        "r2 = r2_score(y_test, y_pred)\n",
        "print(f'R-squared score: {r2}')\n",
        "\n",
        "# Display the coefficients of the features\n",
        "print(f'LASSO Coefficients: {lasso_model.coef_}')"
      ],
      "metadata": {
        "colab": {
          "base_uri": "https://localhost:8080/"
        },
        "id": "EWhSxSEC_QE3",
        "outputId": "cf225f2a-e035-4d34-96c5-544e635d9969"
      },
      "execution_count": 5,
      "outputs": [
        {
          "output_type": "stream",
          "name": "stdout",
          "text": [
            "R-squared score: 0.9997884297520662\n",
            "LASSO Coefficients: [0.         0.02463636]\n"
          ]
        }
      ]
    }
  ]
}